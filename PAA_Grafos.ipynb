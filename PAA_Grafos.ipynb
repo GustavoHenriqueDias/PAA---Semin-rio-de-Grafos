{
  "nbformat": 4,
  "nbformat_minor": 0,
  "metadata": {
    "colab": {
      "provenance": [],
      "authorship_tag": "ABX9TyNTIRHcG/n6mGeAdrvkKam6",
      "include_colab_link": true
    },
    "kernelspec": {
      "name": "python3",
      "display_name": "Python 3"
    },
    "language_info": {
      "name": "python"
    }
  },
  "cells": [
    {
      "cell_type": "markdown",
      "metadata": {
        "id": "view-in-github",
        "colab_type": "text"
      },
      "source": [
        "<a href=\"https://colab.research.google.com/github/GustavoHenriqueDias/PAA---Semin-rio-de-Grafos/blob/main/PAA_Grafos.ipynb\" target=\"_parent\"><img src=\"https://colab.research.google.com/assets/colab-badge.svg\" alt=\"Open In Colab\"/></a>"
      ]
    },
    {
      "cell_type": "code",
      "execution_count": null,
      "metadata": {
        "id": "47k_-NsjZKUL"
      },
      "outputs": [],
      "source": [
        "Problema em Grafos: Caixeiro Viajante (TSP) aplicado à Coleta de Lixo"
      ]
    },
    {
      "cell_type": "code",
      "source": [
        "import itertools\n",
        "\n",
        "pontos = ['Deposito', 'Centro', 'Atalaia', 'Jardins', 'Santos Dumont']\n",
        "\n",
        "distancias = {\n",
        "    ('Deposito', 'Centro'): 5,\n",
        "    ('Deposito', 'Atalaia'): 10,\n",
        "    ('Deposito', 'Jardins'): 8,\n",
        "    ('Deposito', 'Santos Dumont'): 12,\n",
        "    ('Centro', 'Atalaia'): 6,\n",
        "    ('Centro', 'Jardins'): 4,\n",
        "    ('Centro', 'Santos Dumont'): 9,\n",
        "    ('Atalaia', 'Jardins'): 5,\n",
        "    ('Atalaia', 'Santos Dumont'): 7,\n",
        "    ('Jardins', 'Santos Dumont'): 6\n",
        "}\n",
        "\n",
        "def distancia_total(rota):\n",
        "    custo = 0\n",
        "    for i in range(len(rota)):\n",
        "        cidade1 = rota[i]\n",
        "        cidade2 = rota[(i+1) % len(rota)]\n",
        "        if (cidade1, cidade2) in distancias:\n",
        "            custo += distancias[(cidade1, cidade2)]\n",
        "        else:\n",
        "            custo += distancias[(cidade2, cidade1)]\n",
        "    return custo\n",
        "\n",
        "def tsp_forca_bruta(pontos):\n",
        "    permutacoes = itertools.permutations(pontos[1:])\n",
        "    melhor_rota = None\n",
        "    menor_distancia = float('inf')\n",
        "\n",
        "    for rota in permutacoes:\n",
        "        rota_completa = ('Deposito',) + rota\n",
        "        custo = distancia_total(rota_completa)\n",
        "        if custo < menor_distancia:\n",
        "            menor_distancia = custo\n",
        "            melhor_rota = rota_completa\n",
        "    return melhor_rota, menor_distancia\n",
        "\n",
        "rota, custo = tsp_forca_bruta(pontos)\n",
        "print(\"Melhor rota de coleta:\", rota)\n",
        "print(\"Distância total:\", custo, \"km\")"
      ],
      "metadata": {
        "id": "OumLaOVwZRxy"
      },
      "execution_count": null,
      "outputs": []
    },
    {
      "cell_type": "code",
      "source": [
        "Ilustração de como seria na imagem:"
      ],
      "metadata": {
        "id": "cVBMjn64Zakj"
      },
      "execution_count": null,
      "outputs": []
    },
    {
      "cell_type": "code",
      "source": [
        "import networkx as nx\n",
        "import matplotlib.pyplot as plt\n",
        "\n",
        "pontos = ['Deposito', 'Centro', 'Atalaia', 'Jardins', 'Santos Dumont']\n",
        "\n",
        "\n",
        "distancias = {\n",
        "    ('Deposito', 'Centro'): 5,\n",
        "    ('Deposito', 'Atalaia'): 10,\n",
        "    ('Deposito', 'Jardins'): 8,\n",
        "    ('Deposito', 'Santos Dumont'): 12,\n",
        "    ('Centro', 'Atalaia'): 6,\n",
        "    ('Centro', 'Jardins'): 4,\n",
        "    ('Centro', 'Santos Dumont'): 9,\n",
        "    ('Atalaia', 'Jardins'): 5,\n",
        "    ('Atalaia', 'Santos Dumont'): 7,\n",
        "    ('Jardins', 'Santos Dumont'): 6\n",
        "}\n",
        "\n",
        "\n",
        "def obter_distancia(c1, c2):\n",
        "    if (c1, c2) in distancias:\n",
        "        return distancias[(c1, c2)]\n",
        "    else:\n",
        "        return distancias[(c2, c1)]\n",
        "\n",
        "\n",
        "rota = ['Deposito', 'Centro', 'Jardins', 'Atalaia', 'Santos Dumont', 'Deposito']\n",
        "\n",
        "\n",
        "G = nx.Graph()\n",
        "for (c1, c2), d in distancias.items():\n",
        "    G.add_edge(c1, c2, weight=d)\n",
        "\n",
        "\n",
        "pos = {\n",
        "    'Deposito': (0, 0),\n",
        "    'Centro': (1, 1.5),\n",
        "    'Jardins': (2.5, 1.2),\n",
        "    'Atalaia': (3.5, 0),\n",
        "    'Santos Dumont': (2, -1)\n",
        "}\n",
        "\n",
        "plt.figure(figsize=(8,6))\n",
        "nx.draw(G, pos, with_labels=True, node_size=1800, node_color=\"#14b8a6\", font_size=10, font_color=\"white\")\n",
        "\n",
        "\n",
        "nx.draw_networkx_edge_labels(G, pos, edge_labels=nx.get_edge_attributes(G, 'weight'))\n",
        "\n",
        "\n",
        "edge_list = [(rota[i], rota[i+1]) for i in range(len(rota)-1)]\n",
        "nx.draw_networkx_edges(G, pos, edgelist=edge_list, width=3, edge_color=\"red\")\n",
        "\n",
        "plt.title(\"Rota de Coleta de Lixo em Aracaju (TSP)\", fontsize=14)\n",
        "plt.show()"
      ],
      "metadata": {
        "id": "t7Ft-8tOZbj3"
      },
      "execution_count": null,
      "outputs": []
    }
  ]
}